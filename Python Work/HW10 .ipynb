{
 "cells": [
  {
   "cell_type": "markdown",
   "metadata": {},
   "source": [
    "# Homework 10"
   ]
  },
  {
   "cell_type": "markdown",
   "metadata": {},
   "source": [
    "Rohit Kamat rgk359"
   ]
  },
  {
   "cell_type": "markdown",
   "metadata": {},
   "source": [
    "**Problem 1 (2 points):** Using Biopython and the Pubmed database, calculate the total number of papers that Dr. Wilke has published from 2011-2016 (inclusive, so that's 6 years total). \n",
    "\n",
    "**HINTS**: Dr. Wilke will always appear as \"Wilke CO\" in the Pubmed database. Also, make sure to set the `retmax` argument to at least `60` in `Entrez.esearch()` so that you retrieve all of the papers. "
   ]
  },
  {
   "cell_type": "code",
   "execution_count": 1,
   "metadata": {
    "collapsed": false,
    "scrolled": true
   },
   "outputs": [
    {
     "name": "stdout",
     "output_type": "stream",
     "text": [
      "Wilke has been in 56 published papers.\n"
     ]
    }
   ],
   "source": [
    "# You will need Entrez and Medline to solve this problem\n",
    "from Bio import Entrez, Medline\n",
    "\n",
    "Entrez.email = \"rohkamat@yahoo.com\"\n",
    "\n",
    "# Your code goes here\n",
    "handle = Entrez.esearch(db=\"pubmed\", term=\"Wilke CO[Author] AND 2011:2016[Date - Publication]\", retmax=60)\n",
    "record = Entrez.read(handle)\n",
    "handle.close()\n",
    "pmid_list = record[\"IdList\"]\n",
    "print(\"Wilke has been in\", len(pmid_list), \"published papers.\") \n",
    "\n",
    "\n",
    "\n",
    "\n",
    "\n",
    "\n",
    "\n"
   ]
  },
  {
   "cell_type": "markdown",
   "metadata": {
    "collapsed": false
   },
   "source": [
    "**Problem 2 (4 points):** From the years 2011-2016 (inclusive), in which journals did Dr. Wilke's papers appear? Print out all journals, in alphabetical order, making sure you don't print the same journal name twice.\n",
    "\n",
    "**Hint:** You can use the optional `key` argument in the sort function to make sure the sort is not case-sensitive."
   ]
  },
  {
   "cell_type": "code",
   "execution_count": 5,
   "metadata": {
    "collapsed": false
   },
   "outputs": [
    {
     "data": {
      "text/plain": [
       "{'Aids Research And Human Retroviruses',\n",
       " 'Biology Direct',\n",
       " 'Bmc Evolutionary Biology',\n",
       " 'Elife',\n",
       " 'Epidemics',\n",
       " 'Evolution; International Journal Of Organic Evolution',\n",
       " 'Genetics',\n",
       " 'Genome Biology And Evolution',\n",
       " 'Ieee/Acm Transactions On Computational Biology And Bioinformatics',\n",
       " 'Infection, Genetics And Evolution : Journal Of Molecular Epidemiology And Evolutionary Genetics In Infectious Diseases',\n",
       " 'Interdisciplinary Perspectives On Infectious Diseases',\n",
       " 'International Forum Of Allergy & Rhinology',\n",
       " 'Journal Of Molecular Evolution',\n",
       " 'Journal Of Molecular Microbiology And Biotechnology',\n",
       " 'Journal Of The Royal Society, Interface',\n",
       " 'Journal Of Virology',\n",
       " 'Molecular Biology And Evolution',\n",
       " 'Nature Reviews. Genetics',\n",
       " 'Peerj',\n",
       " 'Philosophical Transactions Of The Royal Society Of London. Series B, Biological Sciences',\n",
       " 'Physical Biology',\n",
       " 'Plos Biology',\n",
       " 'Plos Computational Biology',\n",
       " 'Plos Genetics',\n",
       " 'Plos One',\n",
       " 'Plos Pathogens',\n",
       " 'Proceedings Of The National Academy Of Sciences Of The United States Of America',\n",
       " 'Protein Science : A Publication Of The Protein Society',\n",
       " 'Proteins',\n",
       " 'Science (New York, N.Y.)',\n",
       " 'The Journal Of General Virology',\n",
       " 'The Laryngoscope',\n",
       " 'Virus Evolution'}"
      ]
     },
     "execution_count": 5,
     "metadata": {},
     "output_type": "execute_result"
    }
   ],
   "source": [
    "from Bio import Medline\n",
    "handle = Entrez.efetch(db=\"pubmed\", id=pmid_list, rettype=\"medline\", retmode=\"text\")\n",
    "records = Medline.parse(handle)\n",
    "title_list= []\n",
    "for record in records:\n",
    "    title_list=list(title_list)\n",
    "    title_list.append(record['JT'].title())\n",
    "\n",
    "sorted(title_list)\n",
    "title_list= set(title_list) \n",
    "\n",
    "   \n",
    "handle.close()\n",
    "\n",
    "title_list\n",
    "\n"
   ]
  }
 ],
 "metadata": {
  "kernelspec": {
   "display_name": "Python 3",
   "language": "python",
   "name": "python3"
  },
  "language_info": {
   "codemirror_mode": {
    "name": "ipython",
    "version": 3
   },
   "file_extension": ".py",
   "mimetype": "text/x-python",
   "name": "python",
   "nbconvert_exporter": "python",
   "pygments_lexer": "ipython3",
   "version": "3.6.0"
  }
 },
 "nbformat": 4,
 "nbformat_minor": 0
}
