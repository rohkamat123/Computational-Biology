{
 "cells": [
  {
   "cell_type": "markdown",
   "metadata": {},
   "source": [
    "# Homework 11"
   ]
  },
  {
   "cell_type": "markdown",
   "metadata": {},
   "source": [
    "Rohit Kamat rgk359\n"
   ]
  },
  {
   "cell_type": "markdown",
   "metadata": {},
   "source": [
    "**Problem 1 (5 points):** Using **Smith-Waterman** (not Needleman-Wunsch!), align the following two sequences by hand:\n",
    "\n",
    "```\n",
    "CCAGT\n",
    "ACAAGT\n",
    "```\n",
    "\n",
    "Draw out a score matrix, **with the back-tracing arrows**, using the following scoring function:\n",
    "\n",
    "```\n",
    "Match: +2\n",
    "Mismatch: -1\n",
    "Gap: -1\n",
    "```\n",
    "\n",
    "After I filled out the score matrix, I wrote **out the final alignment**.\n",
    "\n"
   ]
  },
  {
   "cell_type": "markdown",
   "metadata": {
    "collapsed": false
   },
   "source": [
    "**Problem 2 (5 points):** I modify the code from the Lab 13 Worksheet, Part 1 so that it runs the **Smith-Waterman** algorithm. The function final produce the matrix of scores only. I Use the same scoring function as in Problem 1. \n",
    "\n",
    "I ran the sequences from Problem 1 through the function and print the output using `print_matrix()`. "
   ]
  },
  {
   "cell_type": "code",
   "execution_count": 1,
   "metadata": {
    "collapsed": false
   },
   "outputs": [
    {
     "name": "stdout",
     "output_type": "stream",
     "text": [
      "[0\t0\t0\t0\t0\t0]\n",
      "\n",
      "[0\t0\t0\t2\t1\t0]\n",
      "\n",
      "[0\t2\t2\t1\t1\t0]\n",
      "\n",
      "[0\t1\t1\t4\t3\t2]\n",
      "\n",
      "[0\t0\t0\t3\t3\t2]\n",
      "\n",
      "[0\t0\t0\t2\t5\t4]\n",
      "\n",
      "[0\t0\t0\t1\t4\t7]\n",
      "\n"
     ]
    }
   ],
   "source": [
    "# Values to calculate scores\n",
    "match_award = 2\n",
    "mismatch_penalty = -1\n",
    "gap_penalty = -1\n",
    "\n",
    "# Make a score matrix with these two sequences\n",
    "seq1 = \"CCAGT\"\n",
    "seq2 = \"ACAAGT\"\n",
    "\n",
    "# Here is a helper function to print out matrices\n",
    "def print_matrix(mat):\n",
    "    # Loop over all rows\n",
    "    for i in range(0, len(mat)):\n",
    "        print(\"[\", end = \"\")\n",
    "        # Loop over each column in row i\n",
    "        for j in range(0, len(mat[i])):\n",
    "            # Print out the value in row i, column j\n",
    "            print(mat[i][j], end = \"\")\n",
    "            # Only add a tab if we're not in the last column\n",
    "            if j != len(mat[i]) - 1:\n",
    "                print(\"\\t\", end = \"\")\n",
    "        print(\"]\\n\")\n",
    "\n",
    "# A function for making a matrix of zeroes\n",
    "def zeros(rows, cols):\n",
    "    # Define an empty list\n",
    "    retval = []\n",
    "    # Set up the rows of the matrix\n",
    "    for x in range(rows):\n",
    "        # For each row, add an empty list\n",
    "        retval.append([])\n",
    "        # Set up the columns in each row\n",
    "        for y in range(cols):\n",
    "            # Add a zero to each column in each row\n",
    "            retval[-1].append(0)\n",
    "    # Return the matrix of zeros\n",
    "    return retval\n",
    "\n",
    "# A function for determining the score between any two bases in alignment\n",
    "def match_score(alpha, beta):\n",
    "    if alpha == beta:\n",
    "        return match_award\n",
    "    elif alpha == '-' or beta == '-':\n",
    "        return gap_penalty\n",
    "    else:\n",
    "        return mismatch_penalty\n",
    "\n",
    "# The function that actually fills out a matrix of scores\n",
    "def smith_waterman(seq1, seq2):\n",
    "    \n",
    "    # length of two sequences\n",
    "    n = len(seq1)\n",
    "    m = len(seq2)  \n",
    "    \n",
    "    # Generate matrix of zeros to store scores\n",
    "    score = zeros(m+1, n+1)\n",
    "   \n",
    "   \n",
    "    \n",
    "    #Fill Out First Column\n",
    "    for i in range(0, m + 1):\n",
    "        score[i][0] = 0\n",
    "    \n",
    "    #Fill Out First Row\n",
    "    for j in range(0, n + 1):\n",
    "        score[0][j] = 0\n",
    "    \n",
    "    # Fill out all other values in the score matrix\n",
    "    for i in range(1, m + 1):\n",
    "        for j in range(1, n + 1):\n",
    "            # Calculate the score by checking the top, left, and diagonal cells\n",
    "            match = score[i - 1][j-1] + match_score(seq1[j-1], seq2[i-1])\n",
    "            delete = score[i - 1][j] + gap_penalty\n",
    "            insert = score[i][j - 1] + gap_penalty\n",
    "            # Record the maximum score from the three possible scores calculated above\n",
    "            score[i][j] = max(0, match, delete,insert)\n",
    "            \n",
    "\n",
    "    return score\n",
    "\n",
    "print_matrix(smith_waterman(seq1, seq2))"
   ]
  }
 ],
 "metadata": {
  "kernelspec": {
   "display_name": "Python 3",
   "language": "python",
   "name": "python3"
  },
  "language_info": {
   "codemirror_mode": {
    "name": "ipython",
    "version": 3
   },
   "file_extension": ".py",
   "mimetype": "text/x-python",
   "name": "python",
   "nbconvert_exporter": "python",
   "pygments_lexer": "ipython3",
   "version": "3.6.0"
  }
 },
 "nbformat": 4,
 "nbformat_minor": 0
}
