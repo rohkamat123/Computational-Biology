{
 "cells": [
  {
   "cell_type": "markdown",
   "metadata": {},
   "source": [
    "# Homework 7 "
   ]
  },
  {
   "cell_type": "markdown",
   "metadata": {},
   "source": [
    "Rohit Kamat rgk359\n",
    "\n",
    "**This homework is due on Mar. 21, 2017 at 7:00pm. Please submit as a PDF file on Canvas. Before submission, please re-run all cells by clicking \"Kernel\" and selecting \"Restart & Run All.\"**\n",
    "\n",
    "**Problem 1 (5 pts)**: Create a list with the names of your favorite animals. Your list should contain at least 5 animals. Then, complete the following steps using python. *Each step should be completed in a different cell and your results should be printed with `print()`.*\n",
    "\n",
    "1. Sort the list so that the names appear in alphabetical order.\n",
    "\n",
    "2. Print how many items there are in the list. *Hint:* use the function `len()`.\n",
    "3. Remove an animal from your list and print the length of the list again.\n",
    "4. Add the animal \"ostrich\" to your list.\n",
    "5. Make a new list in which every animal name in your original list is repeated 3 times."
   ]
  },
  {
   "cell_type": "code",
   "execution_count": 1,
   "metadata": {
    "collapsed": false
   },
   "outputs": [
    {
     "name": "stdout",
     "output_type": "stream",
     "text": [
      "['cheetah', 'gorrilla', 'lion', 'tiger', 'zebra']\n"
     ]
    }
   ],
   "source": [
    "#sort the list animals in alphabetical order\n",
    "animals=[\"gorrilla\",\"lion\", \"cheetah\", \"zebra\", \"tiger\"]\n",
    "animals.sort()\n",
    "print(animals)"
   ]
  },
  {
   "cell_type": "code",
   "execution_count": 2,
   "metadata": {
    "collapsed": false
   },
   "outputs": [
    {
     "name": "stdout",
     "output_type": "stream",
     "text": [
      "5\n"
     ]
    }
   ],
   "source": [
    "#how many items in list\n",
    "print(len(animals))"
   ]
  },
  {
   "cell_type": "code",
   "execution_count": 3,
   "metadata": {
    "collapsed": false
   },
   "outputs": [
    {
     "name": "stdout",
     "output_type": "stream",
     "text": [
      "4\n"
     ]
    }
   ],
   "source": [
    "#remove animal, print length of list\n",
    "animals.remove(\"zebra\")\n",
    "print(len(animals))"
   ]
  },
  {
   "cell_type": "code",
   "execution_count": 4,
   "metadata": {
    "collapsed": false
   },
   "outputs": [
    {
     "name": "stdout",
     "output_type": "stream",
     "text": [
      "['cheetah', 'gorrilla', 'lion', 'tiger', 'ostrich']\n"
     ]
    }
   ],
   "source": [
    "#add animal ostrich to the list\n",
    "animals.append(\"ostrich\")\n",
    "print(animals)"
   ]
  },
  {
   "cell_type": "code",
   "execution_count": 5,
   "metadata": {
    "collapsed": false
   },
   "outputs": [
    {
     "name": "stdout",
     "output_type": "stream",
     "text": [
      "['gorrilla', 'lion', 'cheetah', 'zebra', 'tiger', 'gorrilla', 'lion', 'cheetah', 'zebra', 'tiger', 'gorrilla', 'lion', 'cheetah', 'zebra', 'tiger']\n"
     ]
    }
   ],
   "source": [
    "#repeat orignial animal list 3 times\n",
    "animals=[\"gorrilla\",\"lion\", \"cheetah\", \"zebra\", \"tiger\"]\n",
    "new_animals= animals * 3\n",
    "print(new_animals)         "
   ]
  },
  {
   "cell_type": "markdown",
   "metadata": {},
   "source": [
    "**Problem 2 (5 pts)**: Now imagine that you have gone to the zoo to see your favorite animals listed in Problem 1. Create a dictionary that contains the names of the animals as keys and counts for each animal as the values. (For example, if there are 3 giraffes at the zoo, the key would be \"giraffe\" and the value would be 3.) The counts should just be made-up counts. Then, complete the following steps using python. *Each step should be completed in a different cell and your results should be printed with `print()`.*\n",
    "\n",
    "1. Write code that counts how many animals total you observed. (In other words, add up all of the animal counts.)\n",
    "2. Add an animal \"monkey\" to your dictionary and give it a count of 5.\n",
    "3. Print out a list of the *keys* and a list of the *values* in your dictionary (i.e., the animal names and the counts).\n",
    "4. Change the count for one of the animals in your dictionary (i.e., monkey's count 5 to 8).\n",
    "5. Remove a key-value pair from your dictionary."
   ]
  },
  {
   "cell_type": "code",
   "execution_count": 6,
   "metadata": {
    "collapsed": false
   },
   "outputs": [
    {
     "name": "stdout",
     "output_type": "stream",
     "text": [
      "25\n"
     ]
    }
   ],
   "source": [
    "#write the dictionary\n",
    "animals= {\"gorilla\":5, \"lion\":7, \"cheetah\":4, \"zebra\":6, \"tiger\":3}\n",
    "#counts how many animals you observed\n",
    "print(sum(animals.values()))"
   ]
  },
  {
   "cell_type": "code",
   "execution_count": 7,
   "metadata": {
    "collapsed": false
   },
   "outputs": [
    {
     "name": "stdout",
     "output_type": "stream",
     "text": [
      "{'gorilla': 5, 'lion': 7, 'cheetah': 4, 'zebra': 6, 'tiger': 3, 'monkey': 5}\n"
     ]
    }
   ],
   "source": [
    "#add animal monkey to the animal list\n",
    "animals[\"monkey\"]= 5\n",
    "print(animals)"
   ]
  },
  {
   "cell_type": "code",
   "execution_count": 8,
   "metadata": {
    "collapsed": false
   },
   "outputs": [
    {
     "name": "stdout",
     "output_type": "stream",
     "text": [
      "dict_keys(['gorilla', 'lion', 'cheetah', 'zebra', 'tiger', 'monkey'])\n",
      "dict_values([5, 7, 4, 6, 3, 5])\n"
     ]
    }
   ],
   "source": [
    "#print the list of keys and values\n",
    "print(animals.keys())\n",
    "print(animals.values())"
   ]
  },
  {
   "cell_type": "code",
   "execution_count": 9,
   "metadata": {
    "collapsed": false
   },
   "outputs": [
    {
     "name": "stdout",
     "output_type": "stream",
     "text": [
      "{'gorilla': 5, 'lion': 7, 'cheetah': 8, 'zebra': 6, 'tiger': 3, 'monkey': 5}\n"
     ]
    }
   ],
   "source": [
    "#change the count of cheetah to 8\n",
    "animals[\"cheetah\"]= 8\n",
    "print(animals)"
   ]
  },
  {
   "cell_type": "code",
   "execution_count": 10,
   "metadata": {
    "collapsed": false
   },
   "outputs": [
    {
     "name": "stdout",
     "output_type": "stream",
     "text": [
      "{'lion': 7, 'cheetah': 8, 'zebra': 6, 'tiger': 3, 'monkey': 5}\n"
     ]
    }
   ],
   "source": [
    "#remove a key-value pair\n",
    "del(animals[\"gorilla\"])\n",
    "print(animals)"
   ]
  }
 ],
 "metadata": {
  "kernelspec": {
   "display_name": "Python 3",
   "language": "python",
   "name": "python3"
  },
  "language_info": {
   "codemirror_mode": {
    "name": "ipython",
    "version": 3
   },
   "file_extension": ".py",
   "mimetype": "text/x-python",
   "name": "python",
   "nbconvert_exporter": "python",
   "pygments_lexer": "ipython3",
   "version": "3.6.0"
  }
 },
 "nbformat": 4,
 "nbformat_minor": 0
}
